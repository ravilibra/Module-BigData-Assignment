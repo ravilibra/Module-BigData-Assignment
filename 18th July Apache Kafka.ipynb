{
 "cells": [
  {
   "cell_type": "code",
   "execution_count": 1,
   "id": "3dc7916b",
   "metadata": {},
   "outputs": [],
   "source": [
    "#                                  Assignment "
   ]
  },
  {
   "cell_type": "code",
   "execution_count": null,
   "id": "9cdcf954",
   "metadata": {},
   "outputs": [],
   "source": [
    "#1. Setting up a Kafka Producer:\n",
    "#   a) Write a Python program to create a Kafka producer.\n",
    "#   b) Configure the producer to connect to a Kafka cluster.\n",
    "#   c) Implement logic to send messages to a Kafka topic.\n",
    "\n",
    "from confluent_kafka import Producer\n",
    "\n",
    "# Kafka broker configuration\n",
    "conf = {'bootstrap.servers': 'localhost:9092'}\n",
    "\n",
    "# Create a Kafka producer instance\n",
    "producer = Producer(conf)\n",
    "\n",
    "\n",
    "topic = 'your_topic'\n",
    "\n",
    "# Function to deliver the message delivery report\n",
    "def delivery_report(err, msg):\n",
    "    if err is not None:\n",
    "        print(f'Message delivery failed: {err}')\n",
    "    else:\n",
    "        print(f'Message delivered to {msg.topic()} [{msg.partition()}]')\n",
    "\n",
    "# Send a message to the topic\n",
    "message = \"Hello, Kafka!\"\n",
    "producer.produce(topic, value=message, callback=delivery_report)\n",
    "\n",
    "# Wait for the message to be delivered\n",
    "producer.flush()\n"
   ]
  },
  {
   "cell_type": "code",
   "execution_count": null,
   "id": "ce247b48",
   "metadata": {},
   "outputs": [],
   "source": [
    "#2. Setting up a Kafka Consumer:\n",
    "#   a) Write a Python program to create a Kafka consumer.\n",
    "#   b) Configure the consumer to connect to a Kafka cluster.\n",
    "#   c) Implement logic to consume messages from a Kafka topic.\n",
    "\n",
    "from confluent_kafka import Consumer, KafkaError\n",
    "\n",
    "# Kafka broker configuration\n",
    "conf = {'bootstrap.servers': 'localhost:9092', 'group.id': 'your_consumer_group'}\n",
    "\n",
    "# Create a Kafka consumer instance\n",
    "consumer = Consumer(conf)\n",
    "\n",
    "topic = 'your_topic'\n",
    "\n",
    "# Subscribe to the topic\n",
    "consumer.subscribe([topic])\n",
    "\n",
    "# Consume messages from the topic\n",
    "while True:\n",
    "    msg = consumer.poll(1.0)\n",
    "\n",
    "    if msg is None:\n",
    "        continue\n",
    "    if msg.error():\n",
    "        if msg.error().code() == KafkaError._PARTITION_EOF:\n",
    "            print('Reached end of partition.')\n",
    "        else:\n",
    "            print(f'Error occurred: {msg.error().str()}')\n",
    "    else:\n",
    "        print(f'Received message: {msg.value().decode(\"utf-8\")}')\n"
   ]
  },
  {
   "cell_type": "code",
   "execution_count": null,
   "id": "899ebbba",
   "metadata": {},
   "outputs": [],
   "source": [
    "#3. Creating and Managing Kafka Topics:\n",
    "#   a) Write a Python program to create a new Kafka topic.\n",
    "#   b) Implement functionality to list existing topics.\n",
    "#   c) Develop logic to delete an existing Kafka topic.\n",
    "\n",
    "from confluent_kafka.admin import AdminClient, NewTopic\n",
    "\n",
    "# Kafka broker configuration\n",
    "conf = {'bootstrap.servers': 'localhost:9092'}\n",
    "\n",
    "# Create an AdminClient instance\n",
    "admin_client = AdminClient(conf)\n",
    "\n",
    "# Create a new topic configuration\n",
    "topic_name = 'your_new_topic'\n",
    "num_partitions = 3\n",
    "replication_factor = 1  # Set to the number of Kafka brokers for proper replication\n",
    "\n",
    "# Create a NewTopic instance\n",
    "new_topic = NewTopic(topic_name, num_partitions=num_partitions, replication_factor=replication_factor)\n",
    "\n",
    "# Create the topic\n",
    "admin_client.create_topics([new_topic])\n",
    "\n",
    "\n",
    "# Get the list of existing topics\n",
    "existing_topics = admin_client.list_topics().topics\n",
    "\n",
    "# Print the list of topics\n",
    "print(\"Existing topics:\")\n",
    "for topic in existing_topics:\n",
    "    print(topic)\n",
    "\n",
    "    \n",
    "# Delete an existing topic\n",
    "topic_name = 'your_topic_to_delete'\n",
    "admin_client.delete_topics([topic_name])\n"
   ]
  },
  {
   "cell_type": "code",
   "execution_count": null,
   "id": "6e5fdf22",
   "metadata": {},
   "outputs": [],
   "source": [
    "#4. Producing and Consuming Messages:\n",
    "#   a) Write a Python program to produce messages to a Kafka topic.\n",
    "#   b) Implement logic to consume messages from the same Kafka topic.\n",
    "#   c) Test the end-to-end flow of message production and consumption.\n"
   ]
  },
  {
   "cell_type": "code",
   "execution_count": null,
   "id": "49df22a3",
   "metadata": {},
   "outputs": [],
   "source": [
    "#5. Working with Kafka Consumer Groups:\n",
    "#   a) Write a Python program to create a Kafka consumer within a consumer group.\n",
    "#   b) Implement logic to handle messages consumed by different consumers within the same group.\n",
    "#   c) Observe the behavior of consumer group rebalancing when adding or removing consumers.\n"
   ]
  }
 ],
 "metadata": {
  "kernelspec": {
   "display_name": "Python 3 (ipykernel)",
   "language": "python",
   "name": "python3"
  },
  "language_info": {
   "codemirror_mode": {
    "name": "ipython",
    "version": 3
   },
   "file_extension": ".py",
   "mimetype": "text/x-python",
   "name": "python",
   "nbconvert_exporter": "python",
   "pygments_lexer": "ipython3",
   "version": "3.9.7"
  }
 },
 "nbformat": 4,
 "nbformat_minor": 5
}
